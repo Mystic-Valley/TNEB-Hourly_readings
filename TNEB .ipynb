{
 "cells": [
  {
   "cell_type": "markdown",
   "metadata": {},
   "source": [
    "# About Dataset\n",
    "## Source:\n",
    "\n",
    "K.Kalyani ,kkalyanims '@' gmail.com,T.U.K Arts College,Karanthai,Thanjavur.\n",
    "\n",
    "## Data Set Information:\n",
    "\n",
    "Collect the real time readings for residential,commercial,industrial,agriculure,to find the accuracy consumption in Tamil Nadu Around Thanajvur\n",
    "\n",
    "## Attribute Information:\n",
    "\n",
    "forkva  : float \n",
    "\n",
    "forkw   : float\n",
    "\n",
    "type    : String\n",
    " \n",
    "sector  : Integer\n",
    "\n",
    "service : Integer\n",
    "\n",
    "## Relevant Papers:\n",
    "\n",
    "Efficient Electricity Utilization By IHBMO\n",
    "\n"
   ]
  },
  {
   "cell_type": "code",
   "execution_count": 1,
   "metadata": {
    "ExecuteTime": {
     "end_time": "2019-06-08T10:00:21.535901Z",
     "start_time": "2019-06-08T10:00:20.101036Z"
    }
   },
   "outputs": [],
   "source": [
    "import pandas as pd \n",
    "import matplotlib.pyplot as plt\n",
    "def fig(x = 15, y = 6):\n",
    "    plt.figure(figsize=(x, y))\n",
    "import seaborn as sns\n",
    "\n",
    "from sklearn.model_selection import train_test_split\n",
    "from sklearn.preprocessing import LabelEncoder\n",
    "from sklearn.tree import DecisionTreeClassifier\n",
    "\n",
    "from sklearn.metrics import accuracy_score, explained_variance_score\n",
    "import warnings as wrn\n",
    "wrn.filterwarnings('ignore')"
   ]
  },
  {
   "cell_type": "code",
   "execution_count": 2,
   "metadata": {
    "ExecuteTime": {
     "end_time": "2019-06-08T10:00:21.628701Z",
     "start_time": "2019-06-08T10:00:21.538627Z"
    }
   },
   "outputs": [
    {
     "name": "stdout",
     "output_type": "stream",
     "text": [
      "<class 'pandas.core.frame.DataFrame'>\n",
      "RangeIndex: 45781 entries, 0 to 45780\n",
      "Data columns (total 5 columns):\n",
      "ForkVA       45781 non-null float64\n",
      "ForkW        45781 non-null float64\n",
      "Type         45781 non-null object\n",
      "Sector       45781 non-null int64\n",
      "ServiceID    45781 non-null int64\n",
      "dtypes: float64(2), int64(2), object(1)\n",
      "memory usage: 1.7+ MB\n"
     ]
    }
   ],
   "source": [
    "df = pd.read_csv('eb2.csv')\n",
    "df.info()"
   ]
  },
  {
   "cell_type": "code",
   "execution_count": 3,
   "metadata": {
    "ExecuteTime": {
     "end_time": "2019-06-08T10:00:21.889599Z",
     "start_time": "2019-06-08T10:00:21.631927Z"
    }
   },
   "outputs": [
    {
     "data": {
      "text/html": [
       "<div>\n",
       "<style scoped>\n",
       "    .dataframe tbody tr th:only-of-type {\n",
       "        vertical-align: middle;\n",
       "    }\n",
       "\n",
       "    .dataframe tbody tr th {\n",
       "        vertical-align: top;\n",
       "    }\n",
       "\n",
       "    .dataframe thead th {\n",
       "        text-align: right;\n",
       "    }\n",
       "</style>\n",
       "<table border=\"1\" class=\"dataframe\">\n",
       "  <thead>\n",
       "    <tr style=\"text-align: right;\">\n",
       "      <th></th>\n",
       "      <th>ForkVA</th>\n",
       "      <th>ForkW</th>\n",
       "      <th>Type</th>\n",
       "      <th>Sector</th>\n",
       "      <th>ServiceID</th>\n",
       "    </tr>\n",
       "  </thead>\n",
       "  <tbody>\n",
       "    <tr>\n",
       "      <th>0</th>\n",
       "      <td>0.865936</td>\n",
       "      <td>0.143763</td>\n",
       "      <td>Bank</td>\n",
       "      <td>1</td>\n",
       "      <td>671004572</td>\n",
       "    </tr>\n",
       "    <tr>\n",
       "      <th>1</th>\n",
       "      <td>0.129804</td>\n",
       "      <td>0.088930</td>\n",
       "      <td>Bank</td>\n",
       "      <td>1</td>\n",
       "      <td>671004572</td>\n",
       "    </tr>\n",
       "    <tr>\n",
       "      <th>2</th>\n",
       "      <td>0.061801</td>\n",
       "      <td>0.552047</td>\n",
       "      <td>Bank</td>\n",
       "      <td>1</td>\n",
       "      <td>671004572</td>\n",
       "    </tr>\n",
       "    <tr>\n",
       "      <th>3</th>\n",
       "      <td>0.099116</td>\n",
       "      <td>0.848172</td>\n",
       "      <td>Bank</td>\n",
       "      <td>1</td>\n",
       "      <td>671004572</td>\n",
       "    </tr>\n",
       "    <tr>\n",
       "      <th>4</th>\n",
       "      <td>0.205704</td>\n",
       "      <td>0.624722</td>\n",
       "      <td>Bank</td>\n",
       "      <td>1</td>\n",
       "      <td>671004572</td>\n",
       "    </tr>\n",
       "  </tbody>\n",
       "</table>\n",
       "</div>"
      ],
      "text/plain": [
       "     ForkVA     ForkW  Type  Sector  ServiceID\n",
       "0  0.865936  0.143763  Bank       1  671004572\n",
       "1  0.129804  0.088930  Bank       1  671004572\n",
       "2  0.061801  0.552047  Bank       1  671004572\n",
       "3  0.099116  0.848172  Bank       1  671004572\n",
       "4  0.205704  0.624722  Bank       1  671004572"
      ]
     },
     "execution_count": 3,
     "metadata": {},
     "output_type": "execute_result"
    }
   ],
   "source": [
    "df.head()"
   ]
  },
  {
   "cell_type": "code",
   "execution_count": 4,
   "metadata": {
    "ExecuteTime": {
     "end_time": "2019-06-08T10:00:22.143239Z",
     "start_time": "2019-06-08T10:00:21.895186Z"
    }
   },
   "outputs": [
    {
     "data": {
      "text/html": [
       "<div>\n",
       "<style scoped>\n",
       "    .dataframe tbody tr th:only-of-type {\n",
       "        vertical-align: middle;\n",
       "    }\n",
       "\n",
       "    .dataframe tbody tr th {\n",
       "        vertical-align: top;\n",
       "    }\n",
       "\n",
       "    .dataframe thead th {\n",
       "        text-align: right;\n",
       "    }\n",
       "</style>\n",
       "<table border=\"1\" class=\"dataframe\">\n",
       "  <thead>\n",
       "    <tr style=\"text-align: right;\">\n",
       "      <th></th>\n",
       "      <th>ForkVA</th>\n",
       "      <th>ForkW</th>\n",
       "      <th>Type</th>\n",
       "      <th>Sector</th>\n",
       "      <th>ServiceID</th>\n",
       "    </tr>\n",
       "  </thead>\n",
       "  <tbody>\n",
       "    <tr>\n",
       "      <th>0</th>\n",
       "      <td>0.865936</td>\n",
       "      <td>0.143763</td>\n",
       "      <td>1</td>\n",
       "      <td>1</td>\n",
       "      <td>671004572</td>\n",
       "    </tr>\n",
       "    <tr>\n",
       "      <th>1</th>\n",
       "      <td>0.129804</td>\n",
       "      <td>0.088930</td>\n",
       "      <td>1</td>\n",
       "      <td>1</td>\n",
       "      <td>671004572</td>\n",
       "    </tr>\n",
       "    <tr>\n",
       "      <th>2</th>\n",
       "      <td>0.061801</td>\n",
       "      <td>0.552047</td>\n",
       "      <td>1</td>\n",
       "      <td>1</td>\n",
       "      <td>671004572</td>\n",
       "    </tr>\n",
       "    <tr>\n",
       "      <th>3</th>\n",
       "      <td>0.099116</td>\n",
       "      <td>0.848172</td>\n",
       "      <td>1</td>\n",
       "      <td>1</td>\n",
       "      <td>671004572</td>\n",
       "    </tr>\n",
       "    <tr>\n",
       "      <th>4</th>\n",
       "      <td>0.205704</td>\n",
       "      <td>0.624722</td>\n",
       "      <td>1</td>\n",
       "      <td>1</td>\n",
       "      <td>671004572</td>\n",
       "    </tr>\n",
       "  </tbody>\n",
       "</table>\n",
       "</div>"
      ],
      "text/plain": [
       "     ForkVA     ForkW  Type  Sector  ServiceID\n",
       "0  0.865936  0.143763     1       1  671004572\n",
       "1  0.129804  0.088930     1       1  671004572\n",
       "2  0.061801  0.552047     1       1  671004572\n",
       "3  0.099116  0.848172     1       1  671004572\n",
       "4  0.205704  0.624722     1       1  671004572"
      ]
     },
     "execution_count": 4,
     "metadata": {},
     "output_type": "execute_result"
    }
   ],
   "source": [
    "df['Type'] = LabelEncoder().fit_transform(df['Type'])\n",
    "df.head()"
   ]
  },
  {
   "cell_type": "code",
   "execution_count": 5,
   "metadata": {
    "ExecuteTime": {
     "end_time": "2019-06-08T10:00:22.379873Z",
     "start_time": "2019-06-08T10:00:22.145957Z"
    }
   },
   "outputs": [
    {
     "data": {
      "text/html": [
       "<div>\n",
       "<style scoped>\n",
       "    .dataframe tbody tr th:only-of-type {\n",
       "        vertical-align: middle;\n",
       "    }\n",
       "\n",
       "    .dataframe tbody tr th {\n",
       "        vertical-align: top;\n",
       "    }\n",
       "\n",
       "    .dataframe thead th {\n",
       "        text-align: right;\n",
       "    }\n",
       "</style>\n",
       "<table border=\"1\" class=\"dataframe\">\n",
       "  <thead>\n",
       "    <tr style=\"text-align: right;\">\n",
       "      <th></th>\n",
       "      <th>ForkVA</th>\n",
       "      <th>ForkW</th>\n",
       "      <th>Sector</th>\n",
       "      <th>ServiceID</th>\n",
       "      <th>Type</th>\n",
       "    </tr>\n",
       "  </thead>\n",
       "  <tbody>\n",
       "    <tr>\n",
       "      <th>0</th>\n",
       "      <td>0.865936</td>\n",
       "      <td>0.143763</td>\n",
       "      <td>1</td>\n",
       "      <td>671004572</td>\n",
       "      <td>1</td>\n",
       "    </tr>\n",
       "    <tr>\n",
       "      <th>1</th>\n",
       "      <td>0.129804</td>\n",
       "      <td>0.088930</td>\n",
       "      <td>1</td>\n",
       "      <td>671004572</td>\n",
       "      <td>1</td>\n",
       "    </tr>\n",
       "    <tr>\n",
       "      <th>2</th>\n",
       "      <td>0.061801</td>\n",
       "      <td>0.552047</td>\n",
       "      <td>1</td>\n",
       "      <td>671004572</td>\n",
       "      <td>1</td>\n",
       "    </tr>\n",
       "    <tr>\n",
       "      <th>3</th>\n",
       "      <td>0.099116</td>\n",
       "      <td>0.848172</td>\n",
       "      <td>1</td>\n",
       "      <td>671004572</td>\n",
       "      <td>1</td>\n",
       "    </tr>\n",
       "    <tr>\n",
       "      <th>4</th>\n",
       "      <td>0.205704</td>\n",
       "      <td>0.624722</td>\n",
       "      <td>1</td>\n",
       "      <td>671004572</td>\n",
       "      <td>1</td>\n",
       "    </tr>\n",
       "  </tbody>\n",
       "</table>\n",
       "</div>"
      ],
      "text/plain": [
       "     ForkVA     ForkW  Sector  ServiceID  Type\n",
       "0  0.865936  0.143763       1  671004572     1\n",
       "1  0.129804  0.088930       1  671004572     1\n",
       "2  0.061801  0.552047       1  671004572     1\n",
       "3  0.099116  0.848172       1  671004572     1\n",
       "4  0.205704  0.624722       1  671004572     1"
      ]
     },
     "execution_count": 5,
     "metadata": {},
     "output_type": "execute_result"
    }
   ],
   "source": [
    "df = df[['ForkVA', 'ForkW', 'Sector', 'ServiceID', 'Type']]\n",
    "df.head()"
   ]
  },
  {
   "cell_type": "code",
   "execution_count": 6,
   "metadata": {
    "ExecuteTime": {
     "end_time": "2019-06-08T10:00:22.956699Z",
     "start_time": "2019-06-08T10:00:22.383931Z"
    }
   },
   "outputs": [
    {
     "data": {
      "text/plain": [
       "<matplotlib.axes._subplots.AxesSubplot at 0x7f87685837b8>"
      ]
     },
     "execution_count": 6,
     "metadata": {},
     "output_type": "execute_result"
    },
    {
     "data": {
      "image/png": "[encoded data removed]",
      "text/plain": [
       "<Figure size 432x288 with 2 Axes>"
      ]
     },
     "metadata": {
      "needs_background": "light"
     },
     "output_type": "display_data"
    }
   ],
   "source": [
    "sns.heatmap(df.corr(), annot=True, cmap='Accent')"
   ]
  },
  {
   "cell_type": "code",
   "execution_count": 7,
   "metadata": {
    "ExecuteTime": {
     "end_time": "2019-06-08T10:00:22.967001Z",
     "start_time": "2019-06-08T10:00:22.959273Z"
    }
   },
   "outputs": [],
   "source": [
    "df = df.drop(['ForkW', 'Sector'], 1)\n",
    "X = df.drop(['Type'], 1)\n",
    "y = df['Type']"
   ]
  },
  {
   "cell_type": "code",
   "execution_count": 8,
   "metadata": {
    "ExecuteTime": {
     "end_time": "2019-06-08T10:00:23.194402Z",
     "start_time": "2019-06-08T10:00:22.970184Z"
    }
   },
   "outputs": [],
   "source": [
    "train_x, test_x, train_y, test_y = train_test_split(X, y, test_size = 20)"
   ]
  },
  {
   "cell_type": "code",
   "execution_count": 9,
   "metadata": {
    "ExecuteTime": {
     "end_time": "2019-06-08T10:00:23.591741Z",
     "start_time": "2019-06-08T10:00:23.196983Z"
    }
   },
   "outputs": [
    {
     "data": {
      "text/plain": [
       "0.95"
      ]
     },
     "execution_count": 9,
     "metadata": {},
     "output_type": "execute_result"
    }
   ],
   "source": [
    "clf = DecisionTreeClassifier()\n",
    "clf.fit(train_x, train_y)\n",
    "accuracy_score(clf.predict(test_x), test_y)"
   ]
  }
 ],
 "metadata": {
  "kernelspec": {
   "display_name": "Python 3",
   "language": "python",
   "name": "python3"
  },
  "language_info": {
   "codemirror_mode": {
    "name": "ipython",
    "version": 3
   },
   "file_extension": ".py",
   "mimetype": "text/x-python",
   "name": "python",
   "nbconvert_exporter": "python",
   "pygments_lexer": "ipython3",
   "version": "3.7.3"
  }
 },
 "nbformat": 4,
 "nbformat_minor": 2
}
